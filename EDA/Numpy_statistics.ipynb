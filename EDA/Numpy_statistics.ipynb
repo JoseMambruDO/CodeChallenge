{
 "cells": [
  {
   "cell_type": "markdown",
   "metadata": {},
   "source": [
    "# Statistics functions"
   ]
  },
  {
   "cell_type": "code",
   "execution_count": 1,
   "metadata": {},
   "outputs": [],
   "source": [
    "import numpy as np\n",
    "  \n",
    "\n",
    "import matplotlib.pyplot as plt\n",
    "%matplotlib inline"
   ]
  },
  {
   "cell_type": "code",
   "execution_count": 2,
   "metadata": {},
   "outputs": [
    {
     "data": {
      "text/plain": [
       "array([75, 30,  3, 32, 95, 61, 85, 35, 68, 15, 65, 14, 53, 57, 72, 87, 46,\n",
       "        8, 53, 12, 34, 24, 12, 17, 68, 30, 56, 14, 36, 31, 86, 36, 57, 61,\n",
       "       79, 17,  6, 42, 11,  8, 49, 77, 75, 63, 42, 54, 16, 24, 95, 63, 98,\n",
       "       22, 27, 32, 16, 75, 58, 60, 54, 96, 70, 32, 16, 59, 92, 55, 88,  5,\n",
       "       81, 93, 79, 67, 55, 60, 57, 83, 27, 78, 18, 87, 55, 20,  9,  9, 73,\n",
       "       27, 57, 50,  7, 57, 78, 68, 23, 75, 41, 39, 70,  2, 71, 70])"
      ]
     },
     "execution_count": 2,
     "metadata": {},
     "output_type": "execute_result"
    }
   ],
   "source": [
    "np.random.seed(45)\n",
    "ar = np.random.randint(0,100,size=100)\n",
    "ar"
   ]
  },
  {
   "cell_type": "code",
   "execution_count": 3,
   "metadata": {},
   "outputs": [
    {
     "data": {
      "text/plain": [
       "2"
      ]
     },
     "execution_count": 3,
     "metadata": {},
     "output_type": "execute_result"
    }
   ],
   "source": [
    "np.amin(ar) #Devuelve el mínimo de una matriz o el mínimo a lo largo de un eje"
   ]
  },
  {
   "cell_type": "code",
   "execution_count": 4,
   "metadata": {},
   "outputs": [
    {
     "data": {
      "text/plain": [
       "98"
      ]
     },
     "execution_count": 4,
     "metadata": {},
     "output_type": "execute_result"
    }
   ],
   "source": [
    "np.amax(ar) #Devuelve el máximo de una matriz o el máximo a lo largo de un eje."
   ]
  },
  {
   "cell_type": "code",
   "execution_count": 5,
   "metadata": {},
   "outputs": [
    {
     "data": {
      "text/plain": [
       "96"
      ]
     },
     "execution_count": 5,
     "metadata": {},
     "output_type": "execute_result"
    }
   ],
   "source": [
    "np.ptp(ar) #Rango de valores (máximo - mínimo) a lo largo de un eje."
   ]
  },
  {
   "cell_type": "code",
   "execution_count": 6,
   "metadata": {},
   "outputs": [
    {
     "data": {
      "text/plain": [
       "11.9"
      ]
     },
     "execution_count": 6,
     "metadata": {},
     "output_type": "execute_result"
    }
   ],
   "source": [
    "np.percentile(ar,10) #Calcule el percentil q-ésimo de los datos a lo largo del eje especificado."
   ]
  },
  {
   "cell_type": "code",
   "execution_count": 7,
   "metadata": {},
   "outputs": [
    {
     "data": {
      "text/plain": [
       "array([24. , 54.5])"
      ]
     },
     "execution_count": 7,
     "metadata": {},
     "output_type": "execute_result"
    }
   ],
   "source": [
    "np.quantile(ar,q=[0.25,0.50]) #Calcule el q-ésimo cuantil de los datos a lo largo del eje especificado."
   ]
  },
  {
   "cell_type": "markdown",
   "metadata": {},
   "source": [
    "## Promedia y varianza"
   ]
  },
  {
   "cell_type": "code",
   "execution_count": 8,
   "metadata": {},
   "outputs": [
    {
     "data": {
      "text/plain": [
       "54.5"
      ]
     },
     "execution_count": 8,
     "metadata": {},
     "output_type": "execute_result"
    }
   ],
   "source": [
    "np.median(ar) #Mediana"
   ]
  },
  {
   "cell_type": "code",
   "execution_count": 9,
   "metadata": {},
   "outputs": [
    {
     "data": {
      "text/plain": [
       "48.9"
      ]
     },
     "execution_count": 9,
     "metadata": {},
     "output_type": "execute_result"
    }
   ],
   "source": [
    "np.average(ar) #promedio"
   ]
  },
  {
   "cell_type": "code",
   "execution_count": 10,
   "metadata": {},
   "outputs": [
    {
     "data": {
      "text/plain": [
       "48.9"
      ]
     },
     "execution_count": 10,
     "metadata": {},
     "output_type": "execute_result"
    }
   ],
   "source": [
    "np.mean(ar) #Media"
   ]
  },
  {
   "cell_type": "code",
   "execution_count": 11,
   "metadata": {},
   "outputs": [
    {
     "data": {
      "text/plain": [
       "27.10701016342452"
      ]
     },
     "execution_count": 11,
     "metadata": {},
     "output_type": "execute_result"
    }
   ],
   "source": [
    "np.std(ar) #Desviación estándar"
   ]
  },
  {
   "cell_type": "code",
   "execution_count": 12,
   "metadata": {},
   "outputs": [
    {
     "data": {
      "text/plain": [
       "734.7900000000002"
      ]
     },
     "execution_count": 12,
     "metadata": {},
     "output_type": "execute_result"
    }
   ],
   "source": [
    "np.var(ar) #Varianza"
   ]
  },
  {
   "cell_type": "markdown",
   "metadata": {},
   "source": [
    "## Correlación"
   ]
  },
  {
   "cell_type": "code",
   "execution_count": 13,
   "metadata": {},
   "outputs": [
    {
     "data": {
      "text/plain": [
       "array([27, 47, 54, 93, 19,  6, 48, 14, 60, 55, 52, 51, 37, 42,  7, 19, 21,\n",
       "       85, 55, 14,  1, 48, 27, 97, 30, 43,  9, 90, 77, 19, 89, 86, 51, 54,\n",
       "       81, 16, 42, 66, 49, 90, 60, 81, 68, 90, 34, 11, 82, 91, 98, 59, 37,\n",
       "       19, 54, 95, 31, 94, 85, 12, 78, 56, 29, 71, 58, 31, 81, 34, 12, 39,\n",
       "       41,  6, 92, 68, 61, 36, 37, 58, 36, 65, 99, 71, 43, 15, 28, 64, 54,\n",
       "       21, 95, 58, 92, 43, 74, 14, 48, 65, 62, 98, 68, 68, 48, 72])"
      ]
     },
     "execution_count": 13,
     "metadata": {},
     "output_type": "execute_result"
    }
   ],
   "source": [
    "ar2 = np.random.randint(0,100, size=100)\n",
    "ar2"
   ]
  },
  {
   "cell_type": "code",
   "execution_count": 14,
   "metadata": {},
   "outputs": [
    {
     "data": {
      "text/plain": [
       "array([[ 1.        , -0.03785511],\n",
       "       [-0.03785511,  1.        ]])"
      ]
     },
     "execution_count": 14,
     "metadata": {},
     "output_type": "execute_result"
    }
   ],
   "source": [
    "np.corrcoef(ar,ar2) #Devuelve los coeficientes de correlación producto-momento de Pearson."
   ]
  },
  {
   "cell_type": "code",
   "execution_count": 15,
   "metadata": {},
   "outputs": [
    {
     "data": {
      "text/plain": [
       "array([254488])"
      ]
     },
     "execution_count": 15,
     "metadata": {},
     "output_type": "execute_result"
    }
   ],
   "source": [
    "np.correlate(ar,ar2) #Correlación cruzada de dos secuencias unidimensionales."
   ]
  },
  {
   "cell_type": "markdown",
   "metadata": {},
   "source": [
    "## Histogramas"
   ]
  },
  {
   "cell_type": "code",
   "execution_count": 16,
   "metadata": {},
   "outputs": [
    {
     "data": {
      "text/plain": [
       "(array([ 5, 12,  7, 10, 12, 14, 12,  6,  8, 14]),\n",
       " array([ 1. , 10.8, 20.6, 30.4, 40.2, 50. , 59.8, 69.6, 79.4, 89.2, 99. ]))"
      ]
     },
     "execution_count": 16,
     "metadata": {},
     "output_type": "execute_result"
    }
   ],
   "source": [
    "np.histogram(ar2) #Genera el histograma de un conjunto de datos"
   ]
  },
  {
   "cell_type": "code",
   "execution_count": 17,
   "metadata": {},
   "outputs": [
    {
     "data": {
      "text/plain": [
       "array([0, 1, 0, 0, 0, 0, 2, 1, 0, 1, 0, 1, 2, 0, 3, 1, 1, 0, 0, 4, 0, 2,\n",
       "       0, 0, 0, 0, 0, 2, 1, 1, 1, 2, 0, 0, 2, 0, 2, 3, 0, 1, 0, 1, 2, 3,\n",
       "       0, 0, 0, 1, 4, 1, 0, 2, 1, 0, 4, 2, 1, 0, 3, 1, 2, 1, 1, 0, 1, 2,\n",
       "       1, 0, 4, 0, 0, 2, 1, 0, 1, 0, 0, 1, 1, 0, 0, 3, 1, 0, 0, 2, 1, 0,\n",
       "       0, 1, 3, 1, 2, 1, 1, 2, 0, 1, 2, 1])"
      ]
     },
     "execution_count": 17,
     "metadata": {},
     "output_type": "execute_result"
    }
   ],
   "source": [
    "bins = np.bincount(ar2) #Determina la cuenta de apariciones de un conjunto dado\n",
    "bins\n"
   ]
  },
  {
   "cell_type": "code",
   "execution_count": 18,
   "metadata": {},
   "outputs": [
    {
     "data": {
      "image/png": "[encoded data removed]",
      "text/plain": [
       "<Figure size 432x288 with 1 Axes>"
      ]
     },
     "metadata": {
      "needs_background": "light"
     },
     "output_type": "display_data"
    }
   ],
   "source": [
    "## Que se puede hacer con los bins, y que sea visible \n",
    "\n",
    "x = ar2[bins > 0]\n",
    "y = bins[bins > 0]\n",
    "\n",
    "plt.plot(x,y, '*')\n",
    "\n",
    "plt.show()"
   ]
  }
 ],
 "metadata": {
  "kernelspec": {
   "display_name": "Python 3",
   "language": "python",
   "name": "python3"
  },
  "language_info": {
   "codemirror_mode": {
    "name": "ipython",
    "version": 3
   },
   "file_extension": ".py",
   "mimetype": "text/x-python",
   "name": "python",
   "nbconvert_exporter": "python",
   "pygments_lexer": "ipython3",
   "version": "3.7.6"
  }
 },
 "nbformat": 4,
 "nbformat_minor": 4
}
