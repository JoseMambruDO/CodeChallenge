{
 "cells": [
  {
   "cell_type": "markdown",
   "metadata": {},
   "source": [
    "# Statistics functions"
   ]
  },
  {
   "cell_type": "code",
   "execution_count": 3,
   "metadata": {},
   "outputs": [],
   "source": [
    "import numpy as np"
   ]
  },
  {
   "cell_type": "code",
   "execution_count": 36,
   "metadata": {},
   "outputs": [
    {
     "data": {
      "text/plain": [
       "array([27, 93, 41,  2, 42, 30, 95, 23, 71,  7, 15, 77, 64, 17, 35, 27, 45,\n",
       "        1, 79, 66, 31, 77,  4, 80, 94, 68, 60, 34, 36, 99, 18,  2, 54, 38,\n",
       "       29, 59, 26, 55, 87, 12,  8, 81,  8, 24, 74, 18, 36, 93, 74, 91, 58,\n",
       "       95, 39, 96, 52, 88, 43, 46, 24, 31, 85, 39, 45, 30, 18, 32, 58, 14,\n",
       "       58,  9, 10, 79, 93, 80, 17, 89, 43, 56, 23, 14, 76, 81, 35, 25, 70,\n",
       "       35, 70,  6, 70, 44,  3, 29, 99, 12,  3, 53, 97, 20, 62, 10])"
      ]
     },
     "execution_count": 36,
     "metadata": {},
     "output_type": "execute_result"
    }
   ],
   "source": [
    "ar = np.random.randint(0,100,size=100)\n",
    "ar"
   ]
  },
  {
   "cell_type": "code",
   "execution_count": 37,
   "metadata": {},
   "outputs": [
    {
     "data": {
      "text/plain": [
       "1"
      ]
     },
     "execution_count": 37,
     "metadata": {},
     "output_type": "execute_result"
    }
   ],
   "source": [
    "np.amin(ar) #Devuelve el mínimo de una matriz o el mínimo a lo largo de un eje"
   ]
  },
  {
   "cell_type": "code",
   "execution_count": 38,
   "metadata": {},
   "outputs": [
    {
     "data": {
      "text/plain": [
       "99"
      ]
     },
     "execution_count": 38,
     "metadata": {},
     "output_type": "execute_result"
    }
   ],
   "source": [
    "np.amax(ar) #Devuelve el máximo de una matriz o el máximo a lo largo de un eje."
   ]
  },
  {
   "cell_type": "code",
   "execution_count": 40,
   "metadata": {},
   "outputs": [
    {
     "data": {
      "text/plain": [
       "98"
      ]
     },
     "execution_count": 40,
     "metadata": {},
     "output_type": "execute_result"
    }
   ],
   "source": [
    "np.ptp(ar) #Rango de valores (máximo - mínimo) a lo largo de un eje."
   ]
  },
  {
   "cell_type": "code",
   "execution_count": 44,
   "metadata": {},
   "outputs": [
    {
     "data": {
      "text/plain": [
       "8.9"
      ]
     },
     "execution_count": 44,
     "metadata": {},
     "output_type": "execute_result"
    }
   ],
   "source": [
    "np.percentile(ar,10) #Calcule el percentil q-ésimo de los datos a lo largo del eje especificado."
   ]
  },
  {
   "cell_type": "code",
   "execution_count": 49,
   "metadata": {},
   "outputs": [
    {
     "data": {
      "text/plain": [
       "array([23. , 42.5])"
      ]
     },
     "execution_count": 49,
     "metadata": {},
     "output_type": "execute_result"
    }
   ],
   "source": [
    "np.quantile(ar,q=[0.25,0.50]) #Calcule el q-ésimo cuantil de los datos a lo largo del eje especificado."
   ]
  },
  {
   "cell_type": "markdown",
   "metadata": {},
   "source": [
    "## Promedia y varianza"
   ]
  },
  {
   "cell_type": "code",
   "execution_count": 51,
   "metadata": {},
   "outputs": [
    {
     "data": {
      "text/plain": [
       "42.5"
      ]
     },
     "execution_count": 51,
     "metadata": {},
     "output_type": "execute_result"
    }
   ],
   "source": [
    "np.median(ar) #Mediana"
   ]
  },
  {
   "cell_type": "code",
   "execution_count": 52,
   "metadata": {},
   "outputs": [
    {
     "data": {
      "text/plain": [
       "46.91"
      ]
     },
     "execution_count": 52,
     "metadata": {},
     "output_type": "execute_result"
    }
   ],
   "source": [
    "np.average(ar) #promedio"
   ]
  },
  {
   "cell_type": "code",
   "execution_count": 53,
   "metadata": {},
   "outputs": [
    {
     "data": {
      "text/plain": [
       "46.91"
      ]
     },
     "execution_count": 53,
     "metadata": {},
     "output_type": "execute_result"
    }
   ],
   "source": [
    "np.mean(ar) #Media"
   ]
  },
  {
   "cell_type": "code",
   "execution_count": 54,
   "metadata": {},
   "outputs": [
    {
     "data": {
      "text/plain": [
       "29.51308015101101"
      ]
     },
     "execution_count": 54,
     "metadata": {},
     "output_type": "execute_result"
    }
   ],
   "source": [
    "np.std(ar) #Desviación estándar"
   ]
  },
  {
   "cell_type": "code",
   "execution_count": 56,
   "metadata": {},
   "outputs": [
    {
     "data": {
      "text/plain": [
       "871.0219000000001"
      ]
     },
     "execution_count": 56,
     "metadata": {},
     "output_type": "execute_result"
    }
   ],
   "source": [
    "np.var(ar) #Varianza"
   ]
  },
  {
   "cell_type": "markdown",
   "metadata": {},
   "source": [
    "## Correlación"
   ]
  },
  {
   "cell_type": "code",
   "execution_count": 58,
   "metadata": {},
   "outputs": [
    {
     "data": {
      "text/plain": [
       "array([42, 93, 29, 64, 42, 74, 13, 43, 57, 25, 54, 25, 79, 87, 53, 88, 18,\n",
       "       82, 17, 50,  0,  0,  1, 22, 74, 59, 82, 52,  5, 40, 51, 65, 47, 84,\n",
       "       70, 29, 68, 37, 93, 54, 64, 35, 70, 34, 65, 51, 10, 75, 31, 62, 15,\n",
       "       29, 20, 19, 46, 37, 52, 43,  6,  5, 69, 41, 25, 84,  0, 50, 89, 80,\n",
       "       56, 49, 19, 59, 48, 34, 97, 58, 59, 36, 84, 82, 20, 58, 10, 23, 51,\n",
       "       92,  9, 73, 91, 52, 30, 54, 69, 63, 99, 94, 92, 41, 16,  2])"
      ]
     },
     "execution_count": 58,
     "metadata": {},
     "output_type": "execute_result"
    }
   ],
   "source": [
    "ar2 = np.random.randint(0,100, size=100)\n",
    "ar2"
   ]
  },
  {
   "cell_type": "code",
   "execution_count": 62,
   "metadata": {},
   "outputs": [
    {
     "data": {
      "text/plain": [
       "array([[ 1.        , -0.02782389],\n",
       "       [-0.02782389,  1.        ]])"
      ]
     },
     "execution_count": 62,
     "metadata": {},
     "output_type": "execute_result"
    }
   ],
   "source": [
    "np.corrcoef(ar,ar2) #Devuelve los coeficientes de correlación producto-momento de Pearson."
   ]
  },
  {
   "cell_type": "code",
   "execution_count": 64,
   "metadata": {},
   "outputs": [
    {
     "data": {
      "text/plain": [
       "array([227395])"
      ]
     },
     "execution_count": 64,
     "metadata": {},
     "output_type": "execute_result"
    }
   ],
   "source": [
    "np.correlate(ar,ar2) #Correlación cruzada de dos secuencias unidimensionales."
   ]
  },
  {
   "cell_type": "markdown",
   "metadata": {},
   "source": [
    "## Histogramas"
   ]
  },
  {
   "cell_type": "code",
   "execution_count": 68,
   "metadata": {},
   "outputs": [
    {
     "data": {
      "text/plain": [
       "(array([ 9,  9, 10,  8, 11, 19,  9,  7, 10,  8]),\n",
       " array([ 0. ,  9.9, 19.8, 29.7, 39.6, 49.5, 59.4, 69.3, 79.2, 89.1, 99. ]))"
      ]
     },
     "execution_count": 68,
     "metadata": {},
     "output_type": "execute_result"
    }
   ],
   "source": [
    "np.histogram(ar2) #Genera el histograma de un conjunto de datos"
   ]
  },
  {
   "cell_type": "code",
   "execution_count": 73,
   "metadata": {},
   "outputs": [
    {
     "data": {
      "text/plain": [
       "array([3, 1, 1, 0, 0, 2, 1, 0, 0, 1, 2, 0, 0, 1, 0, 1, 1, 1, 1, 2, 2, 0,\n",
       "       1, 1, 0, 3, 0, 0, 0, 3, 1, 1, 0, 0, 2, 1, 1, 2, 0, 0, 1, 2, 2, 2,\n",
       "       0, 0, 1, 1, 1, 1, 2, 3, 3, 1, 3, 0, 1, 1, 2, 3, 0, 0, 1, 1, 2, 2,\n",
       "       0, 0, 1, 2, 2, 0, 0, 1, 2, 1, 0, 0, 0, 1, 1, 0, 3, 0, 3, 0, 0, 1,\n",
       "       1, 1, 0, 1, 2, 2, 1, 0, 0, 1, 0, 1])"
      ]
     },
     "execution_count": 73,
     "metadata": {},
     "output_type": "execute_result"
    }
   ],
   "source": [
    "bins = np.bincount(ar2) #Determina la cuenta de apariciones de un conjunto dado\n",
    "bins\n"
   ]
  },
  {
   "cell_type": "code",
   "execution_count": 76,
   "metadata": {},
   "outputs": [
    {
     "data": {
      "text/plain": [
       "3"
      ]
     },
     "execution_count": 76,
     "metadata": {},
     "output_type": "execute_result"
    }
   ],
   "source": []
  }
 ],
 "metadata": {
  "kernelspec": {
   "display_name": "Python 3",
   "language": "python",
   "name": "python3"
  },
  "language_info": {
   "codemirror_mode": {
    "name": "ipython",
    "version": 3
   },
   "file_extension": ".py",
   "mimetype": "text/x-python",
   "name": "python",
   "nbconvert_exporter": "python",
   "pygments_lexer": "ipython3",
   "version": "3.7.6"
  }
 },
 "nbformat": 4,
 "nbformat_minor": 4
}
