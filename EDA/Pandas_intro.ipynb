{
 "cells": [
  {
   "cell_type": "code",
   "execution_count": 1,
   "metadata": {},
   "outputs": [],
   "source": [
    "import numpy as np\n",
    "import pandas as pd"
   ]
  },
  {
   "cell_type": "code",
   "execution_count": 2,
   "metadata": {},
   "outputs": [
    {
     "data": {
      "text/plain": [
       "0    7.794\n",
       "1    7.713\n",
       "2    7.631\n",
       "3    7.567\n",
       "4    7.464\n",
       "dtype: float64"
      ]
     },
     "execution_count": 2,
     "metadata": {},
     "output_type": "execute_result"
    }
   ],
   "source": [
    "WPbY = pd.Series([7.794,7.713,7.631,7.567,7.464])\n",
    "\n",
    "WPbY"
   ]
  },
  {
   "cell_type": "code",
   "execution_count": 3,
   "metadata": {},
   "outputs": [
    {
     "data": {
      "text/plain": [
       "2020    7.794\n",
       "2019    7.713\n",
       "2018    7.631\n",
       "2017    7.567\n",
       "2016    7.464\n",
       "dtype: float64"
      ]
     },
     "execution_count": 3,
     "metadata": {},
     "output_type": "execute_result"
    }
   ],
   "source": [
    "WPbY.index = ['2020','2019','2018','2017','2016']\n",
    "WPbY"
   ]
  },
  {
   "cell_type": "code",
   "execution_count": 4,
   "metadata": {},
   "outputs": [
    {
     "data": {
      "text/plain": [
       "2020    7.794\n",
       "2019    7.713\n",
       "2018    7.631\n",
       "2017    7.567\n",
       "2016    7.464\n",
       "Name: World Population by Year, dtype: float64"
      ]
     },
     "execution_count": 4,
     "metadata": {},
     "output_type": "execute_result"
    }
   ],
   "source": [
    "WPbY.name = 'World Population by Year'\n",
    "WPbY"
   ]
  },
  {
   "cell_type": "code",
   "execution_count": 5,
   "metadata": {},
   "outputs": [
    {
     "data": {
      "text/plain": [
       "2020    7.794\n",
       "2019    7.713\n",
       "2018    7.631\n",
       "2017    7.464\n",
       "2016    7.379\n",
       "Name: World Population by Year, dtype: float64"
      ]
     },
     "execution_count": 5,
     "metadata": {},
     "output_type": "execute_result"
    }
   ],
   "source": [
    "#Todo los parametros en una linea\n",
    "\n",
    "data = [7.794,7.713,7.631,7.464,7.379]\n",
    "index = ['2020','2019','2018','2017','2016']\n",
    "name = 'World Population by Year'\n",
    "dtype = np.float\n",
    "\n",
    "WPbY = pd.Series(data,index,dtype,name=name)\n",
    "WPbY"
   ]
  },
  {
   "cell_type": "code",
   "execution_count": 6,
   "metadata": {},
   "outputs": [
    {
     "data": {
      "text/plain": [
       "2020    7.794\n",
       "2019    7.713\n",
       "2018    7.631\n",
       "Name: World Population by Year, dtype: float64"
      ]
     },
     "execution_count": 6,
     "metadata": {},
     "output_type": "execute_result"
    }
   ],
   "source": [
    "#Localizando valores en una Serie\n",
    "\n",
    "WPbY[WPbY>7.500]"
   ]
  },
  {
   "cell_type": "code",
   "execution_count": 7,
   "metadata": {},
   "outputs": [
    {
     "data": {
      "text/plain": [
       "2019    7.713\n",
       "Name: World Population by Year, dtype: float64"
      ]
     },
     "execution_count": 7,
     "metadata": {},
     "output_type": "execute_result"
    }
   ],
   "source": [
    "WPbY[WPbY.index == '2019']"
   ]
  },
  {
   "cell_type": "code",
   "execution_count": 8,
   "metadata": {},
   "outputs": [
    {
     "data": {
      "text/plain": [
       "2017    7.464\n",
       "2016    7.379\n",
       "Name: World Population by Year, dtype: float64"
      ]
     },
     "execution_count": 8,
     "metadata": {},
     "output_type": "execute_result"
    }
   ],
   "source": [
    "WPbY[(WPbY.index != '2020') & (WPbY<7.500)] #Permite condicionales combinar"
   ]
  },
  {
   "cell_type": "code",
   "execution_count": 9,
   "metadata": {},
   "outputs": [
    {
     "data": {
      "text/plain": [
       "2020    7.794\n",
       "2019    7.713\n",
       "2018    7.631\n",
       "2017    7.464\n",
       "2016    7.379\n",
       "2015    7.379\n",
       "Name: World Population by Year, dtype: float64"
      ]
     },
     "execution_count": 9,
     "metadata": {},
     "output_type": "execute_result"
    }
   ],
   "source": [
    "WPbY['2015']= 7.379 #Agregar un nuevo elementos a la serie\n",
    "WPbY"
   ]
  },
  {
   "cell_type": "code",
   "execution_count": 10,
   "metadata": {},
   "outputs": [
    {
     "data": {
      "text/plain": [
       "[7.794, 7.713, 7.631, 7.464, 7.379, 7.379]"
      ]
     },
     "execution_count": 10,
     "metadata": {},
     "output_type": "execute_result"
    }
   ],
   "source": [
    "WPbY.to_list() #Retorna una lista(Python) con los calores"
   ]
  },
  {
   "cell_type": "code",
   "execution_count": 11,
   "metadata": {},
   "outputs": [
    {
     "data": {
      "text/plain": [
       "<bound method Series.__array__ of 2020    7.794\n",
       "2019    7.713\n",
       "2018    7.631\n",
       "2017    7.464\n",
       "2016    7.379\n",
       "2015    7.379\n",
       "Name: World Population by Year, dtype: float64>"
      ]
     },
     "execution_count": 11,
     "metadata": {},
     "output_type": "execute_result"
    }
   ],
   "source": [
    "WPbY.__array__ #Retorna un arreglo NumPy"
   ]
  },
  {
   "cell_type": "code",
   "execution_count": 12,
   "metadata": {},
   "outputs": [
    {
     "data": {
      "text/plain": [
       "6"
      ]
     },
     "execution_count": 12,
     "metadata": {},
     "output_type": "execute_result"
    }
   ],
   "source": [
    "WPbY.size #Cantidad de elementos"
   ]
  },
  {
   "cell_type": "code",
   "execution_count": 13,
   "metadata": {},
   "outputs": [
    {
     "data": {
      "text/plain": [
       "'World Population by Year'"
      ]
     },
     "execution_count": 13,
     "metadata": {},
     "output_type": "execute_result"
    }
   ],
   "source": [
    "WPbY.name #Nombre de la Serie"
   ]
  },
  {
   "cell_type": "code",
   "execution_count": 14,
   "metadata": {},
   "outputs": [
    {
     "data": {
      "text/plain": [
       "dtype('float64')"
      ]
     },
     "execution_count": 14,
     "metadata": {},
     "output_type": "execute_result"
    }
   ],
   "source": [
    "WPbY.dtype #Tipo de dato de la serie"
   ]
  },
  {
   "cell_type": "code",
   "execution_count": 15,
   "metadata": {},
   "outputs": [
    {
     "data": {
      "text/plain": [
       "2020    7.794\n",
       "2015    7.379\n",
       "Name: World Population by Year, dtype: float64"
      ]
     },
     "execution_count": 15,
     "metadata": {},
     "output_type": "execute_result"
    }
   ],
   "source": [
    "WPbY.get(['2020','2015']) #Buscar por llave o lista de llaves"
   ]
  },
  {
   "cell_type": "code",
   "execution_count": 16,
   "metadata": {},
   "outputs": [
    {
     "data": {
      "text/plain": [
       "7.713"
      ]
     },
     "execution_count": 16,
     "metadata": {},
     "output_type": "execute_result"
    }
   ],
   "source": [
    "WPbY.at['2019'] #Acceder a un solo valor dado fila y columnas"
   ]
  },
  {
   "cell_type": "code",
   "execution_count": 17,
   "metadata": {},
   "outputs": [
    {
     "data": {
      "text/plain": [
       "7.713"
      ]
     },
     "execution_count": 17,
     "metadata": {},
     "output_type": "execute_result"
    }
   ],
   "source": [
    "WPbY.iat[1] #Igual al anterior pero dado la posición en par de enteros"
   ]
  },
  {
   "cell_type": "code",
   "execution_count": 18,
   "metadata": {},
   "outputs": [
    {
     "data": {
      "text/plain": [
       "2020    7.79\n",
       "2019    7.71\n",
       "2018    7.63\n",
       "2017    7.46\n",
       "2016    7.38\n",
       "2015    7.38\n",
       "Name: World Population by Year, dtype: float64"
      ]
     },
     "execution_count": 18,
     "metadata": {},
     "output_type": "execute_result"
    }
   ],
   "source": [
    "WPbY.round(2) #Redondear a dos decimales"
   ]
  },
  {
   "cell_type": "code",
   "execution_count": 19,
   "metadata": {},
   "outputs": [
    {
     "data": {
      "text/plain": [
       "2020    7.794\n",
       "2019    7.713\n",
       "2018    7.631\n",
       "2017    7.464\n",
       "2016    7.379\n",
       "2015    7.379\n",
       "Name: World Population by Year, dtype: float64"
      ]
     },
     "execution_count": 19,
     "metadata": {},
     "output_type": "execute_result"
    }
   ],
   "source": [
    "WPbY.apply(abs) #aplicar una funcion"
   ]
  },
  {
   "cell_type": "code",
   "execution_count": 20,
   "metadata": {},
   "outputs": [
    {
     "data": {
      "text/plain": [
       "2020    7.794\n",
       "2019    7.713\n",
       "2018    7.631\n",
       "Name: World Population by Year, dtype: float64"
      ]
     },
     "execution_count": 20,
     "metadata": {},
     "output_type": "execute_result"
    }
   ],
   "source": [
    "WPbY[WPbY.between(7.600,7.800)]"
   ]
  },
  {
   "cell_type": "code",
   "execution_count": 21,
   "metadata": {},
   "outputs": [
    {
     "data": {
      "text/plain": [
       "count    6.000000\n",
       "mean     7.560000\n",
       "std      0.177732\n",
       "min      7.379000\n",
       "25%      7.400250\n",
       "50%      7.547500\n",
       "75%      7.692500\n",
       "max      7.794000\n",
       "Name: World Population by Year, dtype: float64"
      ]
     },
     "execution_count": 21,
     "metadata": {},
     "output_type": "execute_result"
    }
   ],
   "source": [
    "WPbY.describe() #Genera una estadistica descriptiva"
   ]
  },
  {
   "cell_type": "code",
   "execution_count": 22,
   "metadata": {},
   "outputs": [
    {
     "data": {
      "text/plain": [
       "2020    7.794\n",
       "2019    7.713\n",
       "Name: World Population by Year, dtype: float64"
      ]
     },
     "execution_count": 22,
     "metadata": {},
     "output_type": "execute_result"
    }
   ],
   "source": [
    "WPbY.nlargest(2) #n mayores"
   ]
  },
  {
   "cell_type": "code",
   "execution_count": 23,
   "metadata": {},
   "outputs": [
    {
     "data": {
      "text/plain": [
       "<matplotlib.axes._subplots.AxesSubplot at 0x7fc644654250>"
      ]
     },
     "execution_count": 23,
     "metadata": {},
     "output_type": "execute_result"
    },
    {
     "data": {
      "image/png": "[encoded data removed]",
      "text/plain": [
       "<Figure size 432x288 with 1 Axes>"
      ]
     },
     "metadata": {
      "needs_background": "light"
     },
     "output_type": "display_data"
    }
   ],
   "source": [
    "WPbY.plot.bar() #Visualizar datos de una serie"
   ]
  }
 ],
 "metadata": {
  "kernelspec": {
   "display_name": "Python 3",
   "language": "python",
   "name": "python3"
  },
  "language_info": {
   "codemirror_mode": {
    "name": "ipython",
    "version": 3
   },
   "file_extension": ".py",
   "mimetype": "text/x-python",
   "name": "python",
   "nbconvert_exporter": "python",
   "pygments_lexer": "ipython3",
   "version": "3.7.6"
  }
 },
 "nbformat": 4,
 "nbformat_minor": 4
}
